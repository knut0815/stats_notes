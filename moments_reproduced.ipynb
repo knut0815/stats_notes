{
 "cells": [
  {
   "cell_type": "code",
   "execution_count": 1,
   "metadata": {},
   "outputs": [],
   "source": [
    "from __future__ import division\n",
    "import numpy as np\n",
    "import scipy.stats as stats"
   ]
  },
  {
   "cell_type": "markdown",
   "metadata": {},
   "source": [
    "Draw N samples from the standard normal distribution."
   ]
  },
  {
   "cell_type": "code",
   "execution_count": 2,
   "metadata": {},
   "outputs": [],
   "source": [
    "N = 15\n",
    "s = np.random.normal(size=N)"
   ]
  },
  {
   "cell_type": "markdown",
   "metadata": {},
   "source": [
    "Reproduce `numpy.mean`"
   ]
  },
  {
   "cell_type": "code",
   "execution_count": 3,
   "metadata": {},
   "outputs": [
    {
     "name": "stdout",
     "output_type": "stream",
     "text": [
      "Mean: Numpy = 0.0395781375689, Reproduced = 0.0395781375689\n"
     ]
    }
   ],
   "source": [
    "mu = sum(s)/N\n",
    "print(\"Mean: Numpy = {0}, Reproduced = {1}\".format(np.mean(s), mu))"
   ]
  },
  {
   "cell_type": "markdown",
   "metadata": {},
   "source": [
    "Reproduce `numpy.var`"
   ]
  },
  {
   "cell_type": "code",
   "execution_count": 4,
   "metadata": {},
   "outputs": [
    {
     "name": "stdout",
     "output_type": "stream",
     "text": [
      "Biased variance: Numpy = 0.813473419943, Reproduced = 0.813473419943\n",
      "Unbiased variance: Numpy = 0.871578664225, Reproduced = 0.871578664225\n"
     ]
    }
   ],
   "source": [
    "# Biased estimate of the second central moment (variance)\n",
    "mu2_biased = np.mean((s - mu)**2)\n",
    "\n",
    "# Unbiased estimate of variance\n",
    "mu2_unbiased = sum((s - mu)**2) / (N - 1)\n",
    "\n",
    "print(\"Biased variance: Numpy = {0}, Reproduced = {1}\".format(np.var(s), mu2_biased))\n",
    "print(\"Unbiased variance: Numpy = {0}, Reproduced = {1}\".format(np.var(s, ddof=1), mu2_unbiased))"
   ]
  },
  {
   "cell_type": "markdown",
   "metadata": {},
   "source": [
    "Reproduce `numpy.cov`. Note that correlation `numpy.corrcoef` is insensitive to bias/unbias."
   ]
  },
  {
   "cell_type": "code",
   "execution_count": 5,
   "metadata": {},
   "outputs": [
    {
     "name": "stdout",
     "output_type": "stream",
     "text": [
      "Biased covariance: Numpy = -0.239269244548, Reproduced = -0.239269244548\n",
      "Unbiased covariance: Numpy = -0.256359904873, Reproduced = -0.256359904873\n"
     ]
    }
   ],
   "source": [
    "x = np.random.normal(size=N)\n",
    "y = np.random.normal(size=N)\n",
    "\n",
    "# Biased estimate of covariance\n",
    "cov_biased = np.mean((x - x.mean())*(y - y.mean()))\n",
    "np_cov_biased = np.cov(x, y, ddof=0)[0, 1]\n",
    "\n",
    "# Unbiased estimate of covariance\n",
    "cov_unbiased = np.sum((x - x.mean())*(y - y.mean())) / (N - 1)\n",
    "np_cov_unbiased = np.cov(x, y)[0, 1]\n",
    "\n",
    "print(\"Biased covariance: Numpy = {0}, Reproduced = {1}\".format(np_cov_biased, cov_biased))\n",
    "print(\"Unbiased covariance: Numpy = {0}, Reproduced = {1}\".format(cov_unbiased, cov_unbiased))"
   ]
  },
  {
   "cell_type": "markdown",
   "metadata": {},
   "source": [
    "Reproduce `scipy.stats.skew`"
   ]
  },
  {
   "cell_type": "code",
   "execution_count": 6,
   "metadata": {},
   "outputs": [
    {
     "name": "stdout",
     "output_type": "stream",
     "text": [
      "Biased skewness: Scipy = 0.0791253091256, Reproduced = 0.0791253091256\n",
      "\"Unbiased\" skewness: Scipy = 0.0882026665152, Reproduced = 0.0882026665152\n"
     ]
    }
   ],
   "source": [
    "# Biased estimate of the third central moment\n",
    "mu3_biased = np.mean((s - mu)**3)\n",
    "# Biased estimate of skewnewss\n",
    "skew_biased = mu3_biased / mu2_biased**1.5\n",
    "# Unbiased estimate of the third central moment\n",
    "mu3_unbiased = sum((s - mu)**3) * N/((N-1)*(N-2))\n",
    "# \"Unbiased\" estimate of skewnewss. Although both the\n",
    "# numerator and denominator are unbiased, skewnewss itself may not be.\n",
    "skew_unbiased = mu3_unbiased / mu2_unbiased**1.5\n",
    "print(\"Biased skewness: Scipy = {0}, Reproduced = {1}\".format(stats.skew(s), skew_biased))\n",
    "print('\"Unbiased\" skewness: Scipy = {0}, Reproduced = {1}'.format(stats.skew(s, bias=False), skew_unbiased))"
   ]
  },
  {
   "cell_type": "markdown",
   "metadata": {},
   "source": [
    "Reproduce `scipy.stats.kurtosis`"
   ]
  },
  {
   "cell_type": "code",
   "execution_count": 7,
   "metadata": {},
   "outputs": [
    {
     "name": "stdout",
     "output_type": "stream",
     "text": [
      "Biased excess kurtosis: Scipy = -0.426522495553, Reproduced = -0.426522495553\n",
      "\"Unbiased\" excess kurtosis: Scipy = -0.0739810192549, Reproduced = -0.0739810192549\n"
     ]
    }
   ],
   "source": [
    "# Biased estimate of the fourth central moment\n",
    "mu4_biased = np.mean((s - mu)**4)\n",
    "# Biased estimate of excess Kurtosis\n",
    "kurt_biased = mu4_biased / mu2_biased**2 - 3\n",
    "# Unbiased estimate of the fourth cumulant\n",
    "k4_unbiased = N**2*(N+1)/((N-1)*(N-2)*(N-3))*mu4_biased - 3*N**2/((N-2)*(N-3))*mu2_biased**2\n",
    "# \"Unbiased\" estimate of excess kurtosis. Although both the\n",
    "# numerator and denominator are unbiased, kurtosis itself may not be.\n",
    "kurt_unbiased = k4_unbiased / mu2_unbiased**2\n",
    "print(\"Biased excess kurtosis: Scipy = {0}, Reproduced = {1}\".format(stats.kurtosis(s), kurt_biased))\n",
    "print('\"Unbiased\" excess kurtosis: Scipy = {0}, Reproduced = {1}'.format(stats.kurtosis(s, bias=False), kurt_unbiased))"
   ]
  }
 ],
 "metadata": {
  "kernelspec": {
   "display_name": "Python 2",
   "language": "python",
   "name": "python2"
  },
  "language_info": {
   "codemirror_mode": {
    "name": "ipython",
    "version": 2
   },
   "file_extension": ".py",
   "mimetype": "text/x-python",
   "name": "python",
   "nbconvert_exporter": "python",
   "pygments_lexer": "ipython2",
   "version": "2.7.10"
  }
 },
 "nbformat": 4,
 "nbformat_minor": 2
}
