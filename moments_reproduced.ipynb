{
 "cells": [
  {
   "cell_type": "code",
   "execution_count": 32,
   "metadata": {},
   "outputs": [],
   "source": [
    "from __future__ import division\n",
    "import numpy as np\n",
    "import scipy.stats as stats"
   ]
  },
  {
   "cell_type": "markdown",
   "metadata": {},
   "source": [
    "Draw N samples from the standard normal distribution."
   ]
  },
  {
   "cell_type": "code",
   "execution_count": 33,
   "metadata": {},
   "outputs": [],
   "source": [
    "N = 15\n",
    "s = np.random.normal(size=N)"
   ]
  },
  {
   "cell_type": "markdown",
   "metadata": {},
   "source": [
    "Reproduce mean (`numpy.mean`)"
   ]
  },
  {
   "cell_type": "code",
   "execution_count": 34,
   "metadata": {},
   "outputs": [
    {
     "name": "stdout",
     "output_type": "stream",
     "text": [
      "Mean: Numpy = 0.381733327812, Reproduced = 0.381733327812\n"
     ]
    }
   ],
   "source": [
    "mu = sum(s)/N\n",
    "print(\"Mean: Numpy = {0}, Reproduced = {1}\".format(np.mean(s), mu))"
   ]
  },
  {
   "cell_type": "markdown",
   "metadata": {},
   "source": [
    "Reproduce biased and unbiased variance (`numpy.var`)"
   ]
  },
  {
   "cell_type": "code",
   "execution_count": 35,
   "metadata": {},
   "outputs": [
    {
     "name": "stdout",
     "output_type": "stream",
     "text": [
      "Biased variance: Numpy = 0.8081399011, Reproduced = 0.8081399011\n",
      "Unbiased variance: Numpy = 0.86586417975, Reproduced = 0.86586417975\n"
     ]
    }
   ],
   "source": [
    "# Biased estimate of the second central moment (variance)\n",
    "mu2_biased = np.mean((s - mu)**2)\n",
    "# Unbiased estimate of variance\n",
    "mu2_unbiased = sum((s - mu)**2) / (N - 1)\n",
    "print(\"Biased variance: Numpy = {0}, Reproduced = {1}\".format(np.var(s), mu2_biased))\n",
    "print(\"Unbiased variance: Numpy = {0}, Reproduced = {1}\".format(np.var(s, ddof=1), mu2_unbiased))"
   ]
  },
  {
   "cell_type": "markdown",
   "metadata": {},
   "source": [
    "Reproduce biased and unbiased skewnewss (`scipy.stats.skew`)"
   ]
  },
  {
   "cell_type": "code",
   "execution_count": 36,
   "metadata": {},
   "outputs": [
    {
     "name": "stdout",
     "output_type": "stream",
     "text": [
      "Biased skewness: Scipy = 0.364700235903, Reproduced = 0.364700235903\n",
      "\"Unbiased\" skewness: Scipy = 0.406539116761, Reproduced = 0.406539116761\n"
     ]
    }
   ],
   "source": [
    "# Biased estimate of the third central moment\n",
    "mu3_biased = np.mean((s - mu)**3)\n",
    "# Biased estimate of skewnewss\n",
    "skew_biased = mu3_biased / mu2_biased**1.5\n",
    "# Unbiased estimate of the third central moment\n",
    "mu3_unbiased = sum((s - mu)**3) * N/((N-1)*(N-2))\n",
    "# \"Unbiased\" estimate of skewnewss. Although both the\n",
    "# numerator and denominator are unbiased, skewnewss itself may not be.\n",
    "skew_unbiased = mu3_unbiased / mu2_unbiased**1.5\n",
    "print(\"Biased skewness: Scipy = {0}, Reproduced = {1}\".format(stats.skew(s), skew_biased))\n",
    "print('\"Unbiased\" skewness: Scipy = {0}, Reproduced = {1}'.format(stats.skew(s, bias=False), skew_unbiased))"
   ]
  },
  {
   "cell_type": "markdown",
   "metadata": {},
   "source": [
    "Reproduce biased and unbiased excess kurtosis (`scipy.stats.kurtosis`)"
   ]
  },
  {
   "cell_type": "code",
   "execution_count": 37,
   "metadata": {},
   "outputs": [
    {
     "name": "stdout",
     "output_type": "stream",
     "text": [
      "Biased excess kurtosis: Scipy = -0.499557196287, Reproduced = -0.499557196287\n",
      "\"Unbiased\" excess kurtosis: Scipy = -0.178851358771, Reproduced = -0.178851358771\n"
     ]
    }
   ],
   "source": [
    "# Biased estimate of the fourth central moment\n",
    "mu4_biased = np.mean((s - mu)**4)\n",
    "# Biased estimate of excess Kurtosis\n",
    "kurt_biased = mu4_biased / mu2_biased**2 - 3\n",
    "# Unbiased estimate of the fourth cumulant\n",
    "k4_unbiased = N**2*(N+1)/((N-1)*(N-2)*(N-3))*mu4_biased - 3*N**2/((N-2)*(N-3))*mu2_biased**2\n",
    "# \"Unbiased\" estimate of excess kurtosis. Although both the\n",
    "# numerator and denominator are unbiased, kurtosis itself may not be.\n",
    "kurt_unbiased = k4_unbiased / mu2_unbiased**2\n",
    "print(\"Biased excess kurtosis: Scipy = {0}, Reproduced = {1}\".format(stats.kurtosis(s), kurt_biased))\n",
    "print('\"Unbiased\" excess kurtosis: Scipy = {0}, Reproduced = {1}'.format(stats.kurtosis(s, bias=False), kurt_unbiased))"
   ]
  }
 ],
 "metadata": {
  "kernelspec": {
   "display_name": "Python 2",
   "language": "python",
   "name": "python2"
  },
  "language_info": {
   "codemirror_mode": {
    "name": "ipython",
    "version": 2
   },
   "file_extension": ".py",
   "mimetype": "text/x-python",
   "name": "python",
   "nbconvert_exporter": "python",
   "pygments_lexer": "ipython2",
   "version": "2.7.10"
  }
 },
 "nbformat": 4,
 "nbformat_minor": 2
}
