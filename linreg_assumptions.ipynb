{
 "cells": [
  {
   "cell_type": "markdown",
   "metadata": {},
   "source": [
    "## Linear regression assumptions\n",
    "\n",
    "In this notebook, we will review the assumptions underlying our analysis of [linear regression](https://nbviewer.jupyter.org/github/siavashaslanbeigi/stats_notes/blob/master/multi_linreg.ipynb), and what happens when those assumptions are invalid. What we've covered so far goes under the umbrella of Ordinary Least Squares (OLS).\n",
    "\n",
    "### Prerequisites\n",
    "* [Simple linear regression](https://nbviewer.jupyter.org/github/siavashaslanbeigi/stats_notes/blob/master/linreg.ipynb)\n",
    "* [Multiple linear regression](https://nbviewer.jupyter.org/github/siavashaslanbeigi/stats_notes/blob/master/multi_linreg.ipynb)"
   ]
  },
  {
   "cell_type": "markdown",
   "metadata": {},
   "source": [
    "## Non-normal noise\n",
    "\n",
    "### BLUE\n",
    "\n",
    "We derived the OLS estimates $\\hat{\\beta}_j$ in two ways: (i) minimizing a cost function which is constructed from the sum of squared prediction errors, and (ii) maximizing the probability of observing the data set under the following assumptions: $y^{(i)}$ are normally distributed as $\\mathcal{N}(\\beta^T{x^{(i)}}, \\sigma^2)$ and independent for all $i \\neq j$.\n",
    "\n",
    "In the first method, we never spoke of the normal distribution, but came up with the cost function heuristically. In the second method, we did assume errors are normally distributed. So what's the deal? Are the OLS estimates $\\hat{\\beta}_j$ only valid if the residuals are normally distributed? To answer this question, consider the following model:\n",
    "\n",
    "\\begin{equation}\n",
    "y^{(i)} = \\beta^Tx^{(i)} + \\epsilon^{(i)},\n",
    "\\end{equation}\n",
    "\n",
    "where $\\epsilon^{(1)}, \\dots, \\epsilon^{(m)}$ are *any* random variables satisfying:\n",
    "\n",
    "\\begin{equation}\n",
    "\\langle \\epsilon^{(i)} \\rangle = 0, \\qquad\n",
    "\\langle \\epsilon^{(i)}\\epsilon^{(j)} \\rangle = \\sigma^2\\delta_{ij}.\n",
    "\\end{equation}\n",
    "\n",
    "Given that $\\epsilon^{(i)}$ could be non-normal, are the OLS estimates still unbiased? Recall that the OLS esimtaes $\\hat{\\beta}$ are given by\n",
    "\n",
    "\\begin{equation}\n",
    "\\hat{\\beta}=(X^TX)^{-1}X^T Y.\n",
    "\\end{equation}\n",
    "\n",
    "Let's compute the expectation value of $\\hat{\\beta}$\n",
    "\n",
    "\\begin{equation}\n",
    "\\langle \\hat{\\beta} \\rangle\n",
    "    = (X^TX)^{-1}X^T \\langle Y \\rangle\n",
    "    = (X^TX)^{-1}X^T (X\\beta + \\langle \\epsilon \\rangle)\n",
    "    = (X^TX)^{-1}X^TX\\beta\n",
    "    = \\beta,\n",
    "\\end{equation}\n",
    "\n",
    "where we've introduced the vectors\n",
    "\n",
    "\\begin{equation}\n",
    "\\langle Y \\rangle\n",
    "    \\equiv\n",
    "    \\begin{pmatrix}\n",
    "        \\langle y^{(1)} \\rangle \\\\\n",
    "        \\langle y^{(2)} \\rangle \\\\\n",
    "        \\vdots \\\\\n",
    "        \\langle y^{(m)} \\rangle\n",
    "    \\end{pmatrix} =\n",
    "    \\begin{pmatrix}\n",
    "        \\beta^Tx^{(1)} \\\\\n",
    "        \\beta^Tx^{(2)} \\\\\n",
    "        \\vdots \\\\\n",
    "        \\beta^Tx^{(m)}\n",
    "    \\end{pmatrix}\n",
    "    = X\\beta, \\qquad\n",
    "\\langle \\epsilon \\rangle\n",
    "    \\equiv\n",
    "    \\begin{pmatrix}\n",
    "        \\langle \\epsilon^{(1)} \\rangle \\\\\n",
    "        \\langle \\epsilon^{(2)} \\rangle \\\\\n",
    "        \\vdots \\\\\n",
    "        \\langle \\epsilon^{(m)} \\rangle\n",
    "    \\end{pmatrix} =\n",
    "    \\begin{pmatrix}\n",
    "        0 \\\\\n",
    "        0 \\\\\n",
    "        \\vdots \\\\\n",
    "        0\n",
    "    \\end{pmatrix}\n",
    "    = 0\n",
    "\\end{equation}\n",
    "\n",
    "Nice! All we need for $\\hat{\\beta}$ to be unbiased is $\\langle \\epsilon \\rangle = 0$.\n",
    "\n",
    "What about the variance of $\\hat{\\beta}$? Could it be that there is some other linear estimator that is unbiased but has lower variance? Consider some other linear estimator $\\tilde{\\beta}$. It needs to be linear in $Y$, so we can express it as\n",
    "\n",
    "\\begin{equation}\n",
    "\\tilde{\\beta} = CY, \\qquad\n",
    "C \\equiv [(X^TX)^{-1}X^T + D],\n",
    "\\end{equation}\n",
    "\n",
    "where $D$ is any (for now) $(n+1)\\times m$ dimensional matrix. We want $\\tilde{\\beta}$ to be unbiased:\n",
    "\n",
    "\\begin{equation}\n",
    "\\langle \\tilde{\\beta} \\rangle\n",
    "    = [(X^TX)^{-1}X^T + D] \\langle Y \\rangle\n",
    "    = [(X^TX)^{-1}X^T + D] X\\beta\n",
    "    = [I_{n+1} + DX]\\beta,\n",
    "\\end{equation}\n",
    "\n",
    "so we must have that\n",
    "\n",
    "\\begin{equation}\n",
    "DX = 0.\n",
    "\\end{equation}\n",
    "\n",
    "Let's compute the variance of $\\tilde{\\beta}_j$:\n",
    "\n",
    "\\begin{align*}\n",
    "Var(\\tilde{\\beta}_j)\n",
    "    &= \\left\\langle \\left(\\tilde{\\beta}_j - \\langle \\tilde{\\beta}_j \\rangle\\right)^2 \\right\\rangle \\\\\n",
    "    &= \\sum_{i,i'=1}^{m}C_{ji}C_{ji'}\\left\\langle(y^{(i)} - \\langle y^{(i)} \\rangle)(y^{(i')} - \\langle y^{(i')} \\rangle)\\right\\rangle \\\\\n",
    "    &= \\sum_{i,i'=1}^{m}C_{ji}C_{ji'}\\langle \\epsilon^{(i)}\\epsilon^{(i')} \\rangle \\\\\n",
    "    &= \\sum_{i,i'=1}^{m}C_{ji}C_{ji'}\\sigma^2\\delta_{ii'} \\\\\n",
    "    &= \\sigma^2\\sum_{i=1}^{m}C_{ji}C_{ji} \\\\\n",
    "    &= \\sigma^2[CC^T]_{jj}.\n",
    "\\end{align*}\n",
    "\n",
    "We need to compute $CC^T$:\n",
    "\n",
    "\\begin{equation}\n",
    "CC^T\n",
    "    = [(X^TX)^{-1}X^T + D][X(X^TX)^{-1} + D^T]\n",
    "    = (X^TX)^{-1} + (X^TX)^{-1}(DX)^T + (DX)(X^TX)^{-1} + DD^T\n",
    "    = (X^TX)^{-1} + DD^T,\n",
    "\\end{equation}\n",
    "\n",
    "where the last equality follows from $DX=0$. Finally:\n",
    "\n",
    "\\begin{align*}\n",
    "Var(\\tilde{\\beta}_j)\n",
    "    &= \\sigma^2[CC^T]_{jj} \\\\\n",
    "    &= \\sigma^2[(X^TX)^{-1}]_{jj} + \\sigma^2[DD^T]_{jj} \\\\\n",
    "    &= Var(\\hat{\\beta}_j) + \\sigma^2[DD^T]_{jj} \\\\\n",
    "    &\\ge Var(\\hat{\\beta}_j).\n",
    "\\end{align*}\n",
    "\n",
    "Therefore, the OLS estimator is the Best Linear Unbiased Estimator (BLUE), where best is in the sense of having the lowest variance. This remarkable result goes by the name of [Gauss–Markov theorem](https://en.wikipedia.org/wiki/Gauss%E2%80%93Markov_theorem).\n",
    "\n",
    "Let's remember what we assumed: (i) errors have zero mean, (ii) errors are uncorrelated, (iii) errors have the same finite variance. If these assumptions are true, the OLS estimator is the best in town. Note that we don't even have to assume *independence*; the errors just have to be uncorrelated.\n",
    "\n",
    "\n",
    "### Confidence intervals\n",
    "\n",
    "Although the OLS estimator is BLUE, the confidence intervals we derived for $\\hat{\\beta}$ do assume normality. A natural question, then, is how robust the confidence intervals are when $\\epsilon$ is not Gaussian noise. Recall that the normality assumption was necessary to show that\n",
    "\n",
    "\\begin{equation}\n",
    "t_j = \\frac{\\hat{\\beta}_j - \\beta_j}{\\sqrt{\\hat{\\sigma}^2[(X^TX)^{-1}]_{jj}}}\n",
    "\\end{equation}\n",
    "\n",
    "follows the t-distribution with $m-n-1$ degrees of freedom, where\n",
    "\n",
    "\\begin{equation}\n",
    "\\hat{\\sigma}^2 = \\frac{1}{m-n-1}\\hat{e}^T\\hat{e}, \\qquad\n",
    "\\hat{e} = Y - X\\hat{\\beta}.\n",
    "\\end{equation}"
   ]
  },
  {
   "cell_type": "code",
   "execution_count": 1,
   "metadata": {},
   "outputs": [],
   "source": [
    "import numpy as np\n",
    "from statsmodels import regression\n",
    "import scipy.stats as stats\n",
    "import matplotlib.pyplot as plt\n",
    "\n",
    "# Make results reproducible\n",
    "np.random.seed(123)"
   ]
  },
  {
   "cell_type": "markdown",
   "metadata": {},
   "source": [
    "Let's generate data with the following non-Gaussian noise\n",
    "\n",
    "\\begin{equation}\n",
    "\\epsilon = e^Z - e^{\\frac{1}{2}},\n",
    "\\end{equation}\n",
    "\n",
    "where $Z$ is the standard normal distribution. The mean is still zero, but this is a very skewed distribution:"
   ]
  },
  {
   "cell_type": "code",
   "execution_count": 2,
   "metadata": {},
   "outputs": [
    {
     "name": "stdout",
     "output_type": "stream",
     "text": [
      "Mean of sample = 0.0121881387208\n"
     ]
    },
    {
     "data": {
      "image/png": "[encoded data removed]",
      "text/plain": [
       "<matplotlib.figure.Figure at 0x1103eab90>"
      ]
     },
     "metadata": {},
     "output_type": "display_data"
    }
   ],
   "source": [
    "s = np.exp(np.random.normal(size=10000)) - np.exp(1/2.)\n",
    "print(\"Mean of sample = {0}\".format(np.mean(s)))\n",
    "plt.hist(np.exp(np.random.normal(size=10000)) - np.exp(1/2.), bins=100, normed=True);"
   ]
  },
  {
   "cell_type": "markdown",
   "metadata": {},
   "source": [
    "Let's now generate some data using the model\n",
    "\n",
    "\\begin{equation}\n",
    "y = 0.3 + 2 x_1 + 5 x_2 + \\epsilon\n",
    "\\end{equation}\n",
    "\n",
    "and run linear regression:"
   ]
  },
  {
   "cell_type": "code",
   "execution_count": 3,
   "metadata": {},
   "outputs": [
    {
     "data": {
      "text/html": [
       "<table class=\"simpletable\">\n",
       "<caption>OLS Regression Results</caption>\n",
       "<tr>\n",
       "  <th>Dep. Variable:</th>            <td>y</td>        <th>  R-squared:         </th> <td>   0.477</td>\n",
       "</tr>\n",
       "<tr>\n",
       "  <th>Model:</th>                   <td>OLS</td>       <th>  Adj. R-squared:    </th> <td>   0.467</td>\n",
       "</tr>\n",
       "<tr>\n",
       "  <th>Method:</th>             <td>Least Squares</td>  <th>  F-statistic:       </th> <td>   44.29</td>\n",
       "</tr>\n",
       "<tr>\n",
       "  <th>Date:</th>             <td>Sun, 10 Mar 2019</td> <th>  Prob (F-statistic):</th> <td>2.16e-14</td>\n",
       "</tr>\n",
       "<tr>\n",
       "  <th>Time:</th>                 <td>16:05:24</td>     <th>  Log-Likelihood:    </th> <td> -203.29</td>\n",
       "</tr>\n",
       "<tr>\n",
       "  <th>No. Observations:</th>      <td>   100</td>      <th>  AIC:               </th> <td>   412.6</td>\n",
       "</tr>\n",
       "<tr>\n",
       "  <th>Df Residuals:</th>          <td>    97</td>      <th>  BIC:               </th> <td>   420.4</td>\n",
       "</tr>\n",
       "<tr>\n",
       "  <th>Df Model:</th>              <td>     2</td>      <th>                     </th>     <td> </td>   \n",
       "</tr>\n",
       "<tr>\n",
       "  <th>Covariance Type:</th>      <td>nonrobust</td>    <th>                     </th>     <td> </td>   \n",
       "</tr>\n",
       "</table>\n",
       "<table class=\"simpletable\">\n",
       "<tr>\n",
       "    <td></td>       <th>coef</th>     <th>std err</th>      <th>t</th>      <th>P>|t|</th>  <th>[0.025</th>    <th>0.975]</th>  \n",
       "</tr>\n",
       "<tr>\n",
       "  <th>const</th> <td>    0.2944</td> <td>    0.446</td> <td>    0.661</td> <td> 0.510</td> <td>   -0.590</td> <td>    1.179</td>\n",
       "</tr>\n",
       "<tr>\n",
       "  <th>x1</th>    <td>    1.7967</td> <td>    0.713</td> <td>    2.519</td> <td> 0.013</td> <td>    0.381</td> <td>    3.212</td>\n",
       "</tr>\n",
       "<tr>\n",
       "  <th>x2</th>    <td>    5.2384</td> <td>    0.615</td> <td>    8.522</td> <td> 0.000</td> <td>    4.018</td> <td>    6.458</td>\n",
       "</tr>\n",
       "</table>\n",
       "<table class=\"simpletable\">\n",
       "<tr>\n",
       "  <th>Omnibus:</th>       <td>88.300</td> <th>  Durbin-Watson:     </th> <td>   1.999</td> \n",
       "</tr>\n",
       "<tr>\n",
       "  <th>Prob(Omnibus):</th> <td> 0.000</td> <th>  Jarque-Bera (JB):  </th> <td> 642.696</td> \n",
       "</tr>\n",
       "<tr>\n",
       "  <th>Skew:</th>          <td> 3.005</td> <th>  Prob(JB):          </th> <td>2.76e-140</td>\n",
       "</tr>\n",
       "<tr>\n",
       "  <th>Kurtosis:</th>      <td>13.869</td> <th>  Cond. No.          </th> <td>    5.06</td> \n",
       "</tr>\n",
       "</table><br/><br/>Warnings:<br/>[1] Standard Errors assume that the covariance matrix of the errors is correctly specified."
      ],
      "text/plain": [
       "<class 'statsmodels.iolib.summary.Summary'>\n",
       "\"\"\"\n",
       "                            OLS Regression Results                            \n",
       "==============================================================================\n",
       "Dep. Variable:                      y   R-squared:                       0.477\n",
       "Model:                            OLS   Adj. R-squared:                  0.467\n",
       "Method:                 Least Squares   F-statistic:                     44.29\n",
       "Date:                Sun, 10 Mar 2019   Prob (F-statistic):           2.16e-14\n",
       "Time:                        16:05:24   Log-Likelihood:                -203.29\n",
       "No. Observations:                 100   AIC:                             412.6\n",
       "Df Residuals:                      97   BIC:                             420.4\n",
       "Df Model:                           2                                         \n",
       "Covariance Type:            nonrobust                                         \n",
       "==============================================================================\n",
       "                 coef    std err          t      P>|t|      [0.025      0.975]\n",
       "------------------------------------------------------------------------------\n",
       "const          0.2944      0.446      0.661      0.510      -0.590       1.179\n",
       "x1             1.7967      0.713      2.519      0.013       0.381       3.212\n",
       "x2             5.2384      0.615      8.522      0.000       4.018       6.458\n",
       "==============================================================================\n",
       "Omnibus:                       88.300   Durbin-Watson:                   1.999\n",
       "Prob(Omnibus):                  0.000   Jarque-Bera (JB):              642.696\n",
       "Skew:                           3.005   Prob(JB):                    2.76e-140\n",
       "Kurtosis:                      13.869   Cond. No.                         5.06\n",
       "==============================================================================\n",
       "\n",
       "Warnings:\n",
       "[1] Standard Errors assume that the covariance matrix of the errors is correctly specified.\n",
       "\"\"\""
      ]
     },
     "execution_count": 3,
     "metadata": {},
     "output_type": "execute_result"
    }
   ],
   "source": [
    "m = 100\n",
    "n = 2\n",
    "betas = np.array([0.3, 2, 5])\n",
    "X = np.column_stack([np.ones(m), np.random.uniform(size=(m, n))])\n",
    "y = X.dot(betas) + np.exp(np.random.normal(size=m)) - np.exp(1/2.)\n",
    "\n",
    "model = regression.linear_model.OLS(y, X).fit()\n",
    "model.summary()"
   ]
  },
  {
   "cell_type": "markdown",
   "metadata": {},
   "source": [
    "We see that p-value associated with the Jarque-Bera test is extremely small, since the errors are coming from a highly skewed distribution. We can also see this by plotting the histogram of residuals:"
   ]
  },
  {
   "cell_type": "code",
   "execution_count": 4,
   "metadata": {},
   "outputs": [
    {
     "data": {
      "image/png": "[encoded data removed]",
      "text/plain": [
       "<matplotlib.figure.Figure at 0x1149ba110>"
      ]
     },
     "metadata": {},
     "output_type": "display_data"
    }
   ],
   "source": [
    "plt.hist(model.resid, bins=100, normed=True);"
   ]
  },
  {
   "cell_type": "markdown",
   "metadata": {},
   "source": [
    "Let's compute the distribution of $t_j$ empirically and compare it to the t-distribution with $m-3$ degrees of freedom:"
   ]
  },
  {
   "cell_type": "code",
   "execution_count": 5,
   "metadata": {},
   "outputs": [
    {
     "data": {
      "image/png": "[encoded data removed]",
      "text/plain": [
       "<matplotlib.figure.Figure at 0x114b525d0>"
      ]
     },
     "metadata": {},
     "output_type": "display_data"
    }
   ],
   "source": [
    "def empirical_t(X_):\n",
    "    (m_, _) = X_.shape\n",
    "\n",
    "    # Quantities that will not change during the simulation\n",
    "    D = np.linalg.inv(X_.T.dot(X_))\n",
    "    A = D.dot(X_.T)\n",
    "\n",
    "    # Number of times to compute t values\n",
    "    trials = 50000\n",
    "    tvals = np.zeros((trials, n + 1))\n",
    "\n",
    "    for i in range(50000):\n",
    "        # Simulate noise\n",
    "        noise = np.exp(np.random.normal(size=m_)) - np.exp(1/2.)\n",
    "        # Compute y\n",
    "        y_ = X_.dot(betas) + noise\n",
    "        # OLS estimator\n",
    "        betas_ = A.dot(y_)\n",
    "        # Residuals\n",
    "        e_ = y_ - X_.dot(betas_)\n",
    "        # Standard error of estimates\n",
    "        se = np.sqrt(1.0/(m_ - 2) * np.dot(e_, e_) * np.diag(D))\n",
    "        # t values\n",
    "        tvals[i,:] = (betas_ - betas) / se\n",
    "\n",
    "    # Plot results\n",
    "    tx = np.linspace(-6, 6, 100)\n",
    "\n",
    "    fig, axes = plt.subplots(1, 3)\n",
    "    fig.set_size_inches(10, 4)\n",
    "    fig.tight_layout()\n",
    "\n",
    "    for i in range(n + 1):\n",
    "        axes[i].hist(tvals[:, i], bins=100, normed=True);\n",
    "        axes[i].plot(tx, stats.t.pdf(tx, m_ - n - 1))\n",
    "        axes[i].set_title(\"Beta {0}\".format(i))\n",
    "\n",
    "empirical_t(X)"
   ]
  },
  {
   "cell_type": "markdown",
   "metadata": {},
   "source": [
    "This isn't bad at all! Even though the noise we're using is very skewed, the resulting $t$-values for $\\hat{\\beta}_j$ are very-well approximated by the $t$-distribution. Let's now try the same experiment but with $m=20$:"
   ]
  },
  {
   "cell_type": "code",
   "execution_count": 6,
   "metadata": {},
   "outputs": [
    {
     "data": {
      "image/png": "[encoded data removed]",
      "text/plain": [
       "<matplotlib.figure.Figure at 0x114ccd190>"
      ]
     },
     "metadata": {},
     "output_type": "display_data"
    }
   ],
   "source": [
    "empirical_t(X[:20, :])"
   ]
  },
  {
   "cell_type": "markdown",
   "metadata": {},
   "source": [
    "Now we start to see deviations from the t-distribution. This analysis has been comforting though. It seems like if we have enough data points, the confidence intervals will still be reliable even if $\\epsilon$ is non-normal."
   ]
  }
 ],
 "metadata": {
  "kernelspec": {
   "display_name": "Python 2",
   "language": "python",
   "name": "python2"
  },
  "language_info": {
   "codemirror_mode": {
    "name": "ipython",
    "version": 2
   },
   "file_extension": ".py",
   "mimetype": "text/x-python",
   "name": "python",
   "nbconvert_exporter": "python",
   "pygments_lexer": "ipython2",
   "version": "2.7.10"
  }
 },
 "nbformat": 4,
 "nbformat_minor": 2
}
