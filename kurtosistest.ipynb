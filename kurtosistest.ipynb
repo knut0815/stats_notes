{
 "cells": [
  {
   "cell_type": "code",
   "execution_count": null,
   "metadata": {},
   "outputs": [],
   "source": [
    "from __future__ import division\n",
    "import scipy.stats as stats\n",
    "import numpy as np\n",
    "import matplotlib.pylab as plt"
   ]
  },
  {
   "cell_type": "markdown",
   "metadata": {},
   "source": [
    "Set the seed so results are reproducible."
   ]
  },
  {
   "cell_type": "code",
   "execution_count": 2,
   "metadata": {},
   "outputs": [],
   "source": [
    "np.random.seed(123)"
   ]
  },
  {
   "cell_type": "markdown",
   "metadata": {},
   "source": [
    "Number of samples"
   ]
  },
  {
   "cell_type": "code",
   "execution_count": 3,
   "metadata": {},
   "outputs": [],
   "source": [
    "N = 30"
   ]
  },
  {
   "cell_type": "markdown",
   "metadata": {},
   "source": [
    "Generate N samples from the standard normal distribution, compute (excess) kurtosis, and repeat this procedure many times to get a distribution for kurtosis."
   ]
  },
  {
   "cell_type": "code",
   "execution_count": 4,
   "metadata": {},
   "outputs": [
    {
     "data": {
      "image/png": "[encoded data removed]",
      "text/plain": [
       "<matplotlib.figure.Figure at 0x105e6ce10>"
      ]
     },
     "metadata": {},
     "output_type": "display_data"
    }
   ],
   "source": [
    "teststats = stats.kurtosis(np.random.normal(size=(N, 100000)), bias=False)\n",
    "plt.hist(teststats, bins=100);"
   ]
  },
  {
   "cell_type": "markdown",
   "metadata": {},
   "source": [
    "Compare the sample variance of excess kurtosis with the population variance. On Wikipedia the formula used below for the population variance is claimed to be for unbiased excess kurtosis ($g_2$ as oppoed to $G_2$ in their notation): https://en.wikipedia.org/wiki/Kurtosis#Sample_kurtosis. However, the sample variance for $G_2$ matches the formula much better."
   ]
  },
  {
   "cell_type": "code",
   "execution_count": 5,
   "metadata": {},
   "outputs": [
    {
     "name": "stdout",
     "output_type": "stream",
     "text": [
      "Population variance = 0.693465264894. Sample variance = 0.683153503488\n"
     ]
    }
   ],
   "source": [
    "pop_var = 24*N*(N-1)**2 / ((N-3)*(N-2)*(N+3)*(N+5))\n",
    "sample_var = np.var(teststats)\n",
    "print(\"Population variance = {0}. Sample variance = {1}\".format(pop_var, sample_var))"
   ]
  },
  {
   "cell_type": "markdown",
   "metadata": {},
   "source": [
    "Create a sample by drawing N numbers from the standard normal distribution. Compute the sample kurtosis."
   ]
  },
  {
   "cell_type": "code",
   "execution_count": 6,
   "metadata": {},
   "outputs": [
    {
     "name": "stdout",
     "output_type": "stream",
     "text": [
      "Sample kurtosis = 1.73345838003\n"
     ]
    }
   ],
   "source": [
    "sample = np.random.normal(size=N)\n",
    "observed_kurt = stats.kurtosis(sample, bias=False)\n",
    "print(\"Sample kurtosis = {0}\".format(observed_kurt))"
   ]
  },
  {
   "cell_type": "markdown",
   "metadata": {},
   "source": [
    "Now let's compute p-value and z-score using `scipy.stats.kurtosistest` and try to reproduce the results."
   ]
  },
  {
   "cell_type": "code",
   "execution_count": 7,
   "metadata": {},
   "outputs": [
    {
     "name": "stdout",
     "output_type": "stream",
     "text": [
      "Scipy z-score = 1.75810190662. Scipy p-value = 0.0787301714358\n"
     ]
    }
   ],
   "source": [
    "scipy_z, scipy_p = stats.kurtosistest(sample)\n",
    "print(\"Scipy z-score = {0}. Scipy p-value = {1}\".format(scipy_z, scipy_p))"
   ]
  },
  {
   "cell_type": "markdown",
   "metadata": {},
   "source": [
    "Reproduce the two-sided p-value."
   ]
  },
  {
   "cell_type": "code",
   "execution_count": 8,
   "metadata": {},
   "outputs": [
    {
     "name": "stdout",
     "output_type": "stream",
     "text": [
      "Reproduced p-value = 0.07676\n"
     ]
    }
   ],
   "source": [
    "pval = 2 * min(\n",
    "    len(teststats[teststats > observed_kurt]),\n",
    "    len(teststats[teststats < observed_kurt])\n",
    ") / len(teststats)\n",
    "print(\"Reproduced p-value = {0}\".format(pval))"
   ]
  },
  {
   "cell_type": "markdown",
   "metadata": {},
   "source": [
    "Compute z-score from p-value by mapping the test statistic distribution to the standard normal distribution. We ask: up to what value $\\text{p-value} / 2$ worth of probability is captured? We also need to get the sign right: if the sample kurtosis is positive, z-score should be positivie, and vice versa."
   ]
  },
  {
   "cell_type": "code",
   "execution_count": 9,
   "metadata": {},
   "outputs": [
    {
     "name": "stdout",
     "output_type": "stream",
     "text": [
      "Reproduced z-score = 1.76980278375\n"
     ]
    }
   ],
   "source": [
    "zscore = -1 * stats.norm.ppf(pval/2) * np.sign(observed_kurt)\n",
    "print(\"Reproduced z-score = {0}\".format(zscore))"
   ]
  },
  {
   "cell_type": "markdown",
   "metadata": {},
   "source": [
    "Summary of results"
   ]
  },
  {
   "cell_type": "code",
   "execution_count": 10,
   "metadata": {},
   "outputs": [
    {
     "name": "stdout",
     "output_type": "stream",
     "text": [
      "p-value: Scipy = 0.0787301714358, Reproduced = 0.07676\n",
      "z-score: Scipy = 1.75810190662, Reproduced = 1.76980278375\n"
     ]
    }
   ],
   "source": [
    "print(\"p-value: Scipy = {0}, Reproduced = {1}\".format(scipy_p, pval))\n",
    "print(\"z-score: Scipy = {0}, Reproduced = {1}\".format(scipy_z, zscore))"
   ]
  }
 ],
 "metadata": {
  "kernelspec": {
   "display_name": "Python 2",
   "language": "python",
   "name": "python2"
  },
  "language_info": {
   "codemirror_mode": {
    "name": "ipython",
    "version": 2
   },
   "file_extension": ".py",
   "mimetype": "text/x-python",
   "name": "python",
   "nbconvert_exporter": "python",
   "pygments_lexer": "ipython2",
   "version": "2.7.10"
  }
 },
 "nbformat": 4,
 "nbformat_minor": 2
}
