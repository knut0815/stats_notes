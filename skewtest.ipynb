{
 "cells": [
  {
   "cell_type": "markdown",
   "metadata": {},
   "source": [
    "### Reproduce results of `scipy.stats.skewtest`"
   ]
  },
  {
   "cell_type": "code",
   "execution_count": 26,
   "metadata": {},
   "outputs": [],
   "source": [
    "from __future__ import division\n",
    "import scipy.stats as stats\n",
    "import numpy as np\n",
    "import pandas as pd\n",
    "import matplotlib.pylab as plt"
   ]
  },
  {
   "cell_type": "markdown",
   "metadata": {},
   "source": [
    "Set the seed so results are reproducible."
   ]
  },
  {
   "cell_type": "code",
   "execution_count": 27,
   "metadata": {},
   "outputs": [],
   "source": [
    "np.random.seed(123)"
   ]
  },
  {
   "cell_type": "markdown",
   "metadata": {},
   "source": [
    "Number of samples"
   ]
  },
  {
   "cell_type": "code",
   "execution_count": 28,
   "metadata": {},
   "outputs": [],
   "source": [
    "N = 30"
   ]
  },
  {
   "cell_type": "markdown",
   "metadata": {},
   "source": [
    "Generate N samples from the standard normal distribution, compute the skew, and repeat this procedure many times to get a distribution for the skew."
   ]
  },
  {
   "cell_type": "code",
   "execution_count": 29,
   "metadata": {},
   "outputs": [
    {
     "data": {
      "image/png": "[encoded data removed]",
      "text/plain": [
       "<matplotlib.figure.Figure at 0x10bae82d0>"
      ]
     },
     "metadata": {},
     "output_type": "display_data"
    }
   ],
   "source": [
    "teststats = stats.skew(np.random.normal(size=(N, 100000)), bias=False)\n",
    "plt.hist(teststats, bins=100);"
   ]
  },
  {
   "cell_type": "markdown",
   "metadata": {},
   "source": [
    "Compare the sample variance of excess kurtosis with the population variance (see $\\text{Var}(G_1)$ https://en.wikipedia.org/wiki/Skewness#Sample_skewness)."
   ]
  },
  {
   "cell_type": "code",
   "execution_count": 30,
   "metadata": {},
   "outputs": [
    {
     "name": "stdout",
     "output_type": "stream",
     "text": [
      "Population variance = 0.182237117721. Sample variance = 0.180045636279\n"
     ]
    }
   ],
   "source": [
    "pop_var = 6.0*N*(N-1) / ((N-2)*(N+1)*(N+3))\n",
    "sample_var = np.var(teststats)\n",
    "print(\"Population variance = {0}. Sample variance = {1}\".format(pop_var, sample_var))"
   ]
  },
  {
   "cell_type": "markdown",
   "metadata": {},
   "source": [
    "Draw N numbers from the standard uniform distribution and compute the skew."
   ]
  },
  {
   "cell_type": "code",
   "execution_count": 31,
   "metadata": {},
   "outputs": [
    {
     "name": "stdout",
     "output_type": "stream",
     "text": [
      "Sample skew = 0.569033768536\n"
     ]
    }
   ],
   "source": [
    "sample = np.random.uniform(size=N)\n",
    "observed_skew = stats.skew(sample, bias=False)\n",
    "print(\"Sample skew = {0}\".format(observed_skew))"
   ]
  },
  {
   "cell_type": "markdown",
   "metadata": {},
   "source": [
    "Now let's compute p-value and z-score using `scipy.stats.skewtest` and try to reproduce the results."
   ]
  },
  {
   "cell_type": "code",
   "execution_count": 32,
   "metadata": {},
   "outputs": [
    {
     "name": "stdout",
     "output_type": "stream",
     "text": [
      "Scipy z-score = 1.36463537903. Scipy p-value = 0.172367679312\n"
     ]
    }
   ],
   "source": [
    "scipy_z, scipy_p = stats.skewtest(sample)\n",
    "print(\"Scipy z-score = {0}. Scipy p-value = {1}\".format(scipy_z, scipy_p))"
   ]
  },
  {
   "cell_type": "markdown",
   "metadata": {},
   "source": [
    "Reproduce the two-sided p-value."
   ]
  },
  {
   "cell_type": "code",
   "execution_count": 33,
   "metadata": {},
   "outputs": [
    {
     "name": "stdout",
     "output_type": "stream",
     "text": [
      "Reproduced p-value = 0.17108\n"
     ]
    }
   ],
   "source": [
    "pval = 2 * min(\n",
    "    len(teststats[teststats > observed_skew]),\n",
    "    len(teststats[teststats < observed_skew])\n",
    ") / len(teststats)\n",
    "print(\"Reproduced p-value = {0}\".format(pval))"
   ]
  },
  {
   "cell_type": "markdown",
   "metadata": {},
   "source": [
    "Compute z-score from p-value by mapping the test statistic distribution to the standard normal distribution. We ask: up to what value $\\text{p-value} / 2$ worth of probability is captured? We also need to get the sign right: if the sample skew is positive, z-score should be positivie, and vice versa."
   ]
  },
  {
   "cell_type": "code",
   "execution_count": 34,
   "metadata": {},
   "outputs": [
    {
     "name": "stdout",
     "output_type": "stream",
     "text": [
      "Reproduced z-score = 1.3687417974\n"
     ]
    }
   ],
   "source": [
    "zscore = -1 * stats.norm.ppf(pval/2) * np.sign(observed_skew)\n",
    "print(\"Reproduced z-score = {0}\".format(zscore))"
   ]
  },
  {
   "cell_type": "markdown",
   "metadata": {},
   "source": [
    "Summary of results"
   ]
  },
  {
   "cell_type": "code",
   "execution_count": 35,
   "metadata": {},
   "outputs": [
    {
     "name": "stdout",
     "output_type": "stream",
     "text": [
      "p-value: Scipy = 0.172367679312, Reproduced = 0.17108\n",
      "z-score: Scipy = 1.36463537903, Reproduced = 1.3687417974\n"
     ]
    }
   ],
   "source": [
    "print(\"p-value: Scipy = {0}, Reproduced = {1}\".format(scipy_p, pval))\n",
    "print(\"z-score: Scipy = {0}, Reproduced = {1}\".format(scipy_z, zscore))"
   ]
  }
 ],
 "metadata": {
  "kernelspec": {
   "display_name": "Python 2",
   "language": "python",
   "name": "python2"
  },
  "language_info": {
   "codemirror_mode": {
    "name": "ipython",
    "version": 2
   },
   "file_extension": ".py",
   "mimetype": "text/x-python",
   "name": "python",
   "nbconvert_exporter": "python",
   "pygments_lexer": "ipython2",
   "version": "2.7.10"
  }
 },
 "nbformat": 4,
 "nbformat_minor": 2
}
