{
 "cells": [
  {
   "cell_type": "code",
   "execution_count": 1,
   "metadata": {},
   "outputs": [],
   "source": [
    "from __future__ import division\n",
    "import scipy.stats as stats\n",
    "import numpy as np\n",
    "import matplotlib.pylab as plt"
   ]
  },
  {
   "cell_type": "markdown",
   "metadata": {},
   "source": [
    "Set the seed so results are reproducible."
   ]
  },
  {
   "cell_type": "code",
   "execution_count": 2,
   "metadata": {},
   "outputs": [],
   "source": [
    "np.random.seed(123)"
   ]
  },
  {
   "cell_type": "markdown",
   "metadata": {},
   "source": [
    "Create a function that computes the Jarque-Bera test statistic."
   ]
  },
  {
   "cell_type": "code",
   "execution_count": 3,
   "metadata": {},
   "outputs": [],
   "source": [
    "def jb(x):\n",
    "    \"\"\"Comutes the Jarque-Bera test statistic along columns.\n",
    "\n",
    "    Args:\n",
    "        x (numpy.ndarray): array where every column is an N-dimensional sample.\n",
    "    \n",
    "    Returns:\n",
    "        float: Jarque-Bera test statistic\n",
    "    \"\"\"\n",
    "    n = len(x)\n",
    "    skew = stats.skew(x)\n",
    "    kurtosis = stats.kurtosis(x)\n",
    "    return n / 6 * (skew**2 + kurtosis**2 / 4)"
   ]
  },
  {
   "cell_type": "markdown",
   "metadata": {},
   "source": [
    "Reproduce Jarque-Bera test statistic computed using `scipy.stats.jarque_bera`"
   ]
  },
  {
   "cell_type": "code",
   "execution_count": 4,
   "metadata": {},
   "outputs": [
    {
     "name": "stdout",
     "output_type": "stream",
     "text": [
      "Jarque-Bera: Scipy = 0.976606880492. Reproduced = 0.976606880492\n"
     ]
    }
   ],
   "source": [
    "sample = np.random.normal(size=30)\n",
    "scipy_jb, scipy_p = stats.jarque_bera(sample)\n",
    "print(\"Jarque-Bera: Scipy = {0}. Reproduced = {1}\".format(scipy_jb, jb(sample)))"
   ]
  },
  {
   "cell_type": "markdown",
   "metadata": {},
   "source": [
    "Plot the histogram of JB values calculated for samples of the standard normal and compare it with the PDF of $\\chi_2^2$."
   ]
  },
  {
   "cell_type": "code",
   "execution_count": 5,
   "metadata": {},
   "outputs": [],
   "source": [
    "def chi2_fit(teststats):\n",
    "    # Chi-2 pdf for a range of values\n",
    "    x = np.linspace(0, 20, 100)\n",
    "    chi2 = stats.chi2(2).pdf(x)\n",
    "    plt.plot(x, chi2, label='Chi-2')\n",
    "    \n",
    "    # Plot histogram of test statistic samples\n",
    "    plt.hist(teststats, bins=50, normed=True, label='Jarque-Bera')\n",
    "\n",
    "    plt.xlim(0, 20)\n",
    "    plt.legend()"
   ]
  },
  {
   "cell_type": "markdown",
   "metadata": {},
   "source": [
    "Compute right-tail p-value from test statistic samples and compare the result with `scipy.stats.jarque_bera`."
   ]
  },
  {
   "cell_type": "code",
   "execution_count": 6,
   "metadata": {},
   "outputs": [],
   "source": [
    "def p_value(teststats, N):\n",
    "    s = np.random.normal(size=N)\n",
    "    observed_jb = jb(s)\n",
    "    p = len(teststats[teststats > observed_jb]) / len(teststats)\n",
    "    _, scipy_p = stats.jarque_bera(s)\n",
    "    print(\"p-value: Scipy = {0}, Reproduced = {1}\".format(scipy_p, p))"
   ]
  },
  {
   "cell_type": "markdown",
   "metadata": {},
   "source": [
    "Consider first a large sample size: $N = 3000$. We see that the test statistic distribution is well approximated by the $\\chi_2^2$ distribution. (Usually $N > 2000$ is considered large enough for the approximation to hold.) Also, we're able to reproduce p-value of `scipy.stats.jarque_bera` with good accuracy."
   ]
  },
  {
   "cell_type": "code",
   "execution_count": 7,
   "metadata": {},
   "outputs": [
    {
     "data": {
      "image/png": "[encoded data removed]",
      "text/plain": [
       "<matplotlib.figure.Figure at 0x10846ce10>"
      ]
     },
     "metadata": {},
     "output_type": "display_data"
    }
   ],
   "source": [
    "# Generate n samples of the standard normal, compute JB,\n",
    "# and repeat to a get a distribution\n",
    "N_l = 3000\n",
    "teststats_l = jb(np.random.normal(size=(N_l, 10000)))\n",
    "chi2_fit(teststats_l);"
   ]
  },
  {
   "cell_type": "code",
   "execution_count": 8,
   "metadata": {},
   "outputs": [
    {
     "name": "stdout",
     "output_type": "stream",
     "text": [
      "p-value: Scipy = 0.0731561813257, Reproduced = 0.0682\n"
     ]
    }
   ],
   "source": [
    "p_value(teststats_l, N_l)"
   ]
  },
  {
   "cell_type": "markdown",
   "metadata": {},
   "source": [
    "Now let's look at a small sample size: $N=20$. We see that $\\chi_2^2$ is no longer a good approximation and that our own calculation of p-value no longer matches that of `scipy.stats.jarque_bera`. The reason is that `scipy.stats.jarque_bera` actually uses the $\\chi_2^2$ distribution. From the plot we can see that $\\chi_2^2$ will often produce higher p-values."
   ]
  },
  {
   "cell_type": "code",
   "execution_count": 9,
   "metadata": {},
   "outputs": [
    {
     "data": {
      "image/png": "[encoded data removed]",
      "text/plain": [
       "<matplotlib.figure.Figure at 0x10b71f2d0>"
      ]
     },
     "metadata": {},
     "output_type": "display_data"
    }
   ],
   "source": [
    "N_s = 20\n",
    "teststats_s = jb(np.random.normal(size=(N_s, 10000)))\n",
    "chi2_fit(teststats_s);"
   ]
  },
  {
   "cell_type": "code",
   "execution_count": 10,
   "metadata": {},
   "outputs": [
    {
     "name": "stdout",
     "output_type": "stream",
     "text": [
      "p-value: Scipy = 0.288320881828, Reproduced = 0.0986\n"
     ]
    }
   ],
   "source": [
    "p_value(teststats_s, N_s)"
   ]
  }
 ],
 "metadata": {
  "kernelspec": {
   "display_name": "Python 2",
   "language": "python",
   "name": "python2"
  },
  "language_info": {
   "codemirror_mode": {
    "name": "ipython",
    "version": 2
   },
   "file_extension": ".py",
   "mimetype": "text/x-python",
   "name": "python",
   "nbconvert_exporter": "python",
   "pygments_lexer": "ipython2",
   "version": "2.7.10"
  }
 },
 "nbformat": 4,
 "nbformat_minor": 2
}
